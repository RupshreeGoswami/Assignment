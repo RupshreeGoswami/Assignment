{
 "cells": [
  {
   "cell_type": "markdown",
   "id": "3089f7d9",
   "metadata": {},
   "source": [
    "1. Write a function to compute 5/0 and use try/except to catch the exceptions."
   ]
  },
  {
   "cell_type": "code",
   "execution_count": 50,
   "id": "0853ca3e",
   "metadata": {},
   "outputs": [],
   "source": [
    " def DivisionByZero():\n",
    "    \n",
    "    try:\n",
    "        \n",
    "        numerator = int(input('Please enter the numerator : '))\n",
    "        dinominator = int(input('please enter the dinominator : '))\n",
    "        division = numerator/dinominator\n",
    "        print(\"the result is : \",division)\n",
    "        \n",
    "    except( ValueError , ZeroDivisionError ) :\n",
    "        print(\"ERROR : please check the values you entered ! \")\n",
    "        "
   ]
  },
  {
   "cell_type": "code",
   "execution_count": 51,
   "id": "8a2db603",
   "metadata": {},
   "outputs": [
    {
     "name": "stdout",
     "output_type": "stream",
     "text": [
      "Please enter the numerator : 7347\n",
      "please enter the dinominator : hsdjgh\n",
      "ERROR : please check the values you entered ! \n"
     ]
    }
   ],
   "source": [
    "DivisionByZero()"
   ]
  },
  {
   "cell_type": "code",
   "execution_count": 52,
   "id": "6b1584a8",
   "metadata": {},
   "outputs": [
    {
     "name": "stdout",
     "output_type": "stream",
     "text": [
      "Please enter the numerator : 4\n",
      "please enter the dinominator : 0\n",
      "ERROR : please check the values you entered ! \n"
     ]
    }
   ],
   "source": [
    "DivisionByZero()"
   ]
  },
  {
   "cell_type": "markdown",
   "id": "26eb25a6",
   "metadata": {},
   "source": [
    "---------------------------------------------------------------------------------------------------------------------"
   ]
  },
  {
   "cell_type": "markdown",
   "id": "9983f4bd",
   "metadata": {},
   "source": [
    "---------------------------------------------------------------------------------------------"
   ]
  },
  {
   "cell_type": "markdown",
   "id": "9f4dac05",
   "metadata": {},
   "source": [
    "2. Implement a Python program to generate all sentences where subject is in\n",
    "[\"Americans\", \"Indians\"] and verb is in [\"Play\", \"watch\"] and the object is in\n",
    "[\"Baseball\",\"cricket\"].\n",
    "Hint: Subject,Verb and Object should be declared in the program as shown below.\n",
    "\n",
    "subjects=[\"Americans \",\"Indians\"]\n",
    "\n",
    "verbs=[\"play\",\"watch\"]\n",
    "\n",
    "objects=[\"Baseball\",\"Cricket\"]\n",
    "\n",
    "\n",
    "\n",
    "Output should come as below:\n",
    "\n",
    "Americans play Baseball.\n",
    "\n",
    "Americans play Cricket.\n",
    "\n",
    "Americans watch Baseball.\n",
    "\n",
    "Americans watch Cricket.\n",
    "\n",
    "Indians play Baseball.\n",
    "\n",
    "Indians play Cricket.\n",
    "\n",
    "Indians watch Baseball."
   ]
  },
  {
   "cell_type": "code",
   "execution_count": 25,
   "id": "5edd2d6f",
   "metadata": {},
   "outputs": [
    {
     "name": "stdout",
     "output_type": "stream",
     "text": [
      "Americans  play  Baseball\n",
      "Americans  play  Cricket\n",
      "Americans  watch  Baseball\n",
      "Americans  watch  Cricket\n",
      "Indians  play  Baseball\n",
      "Indians  play  Cricket\n",
      "Indians  watch  Baseball\n",
      "Indians  watch  Cricket\n"
     ]
    }
   ],
   "source": [
    "subjects=[\"Americans\",\"Indians\"]\n",
    "verbs=[\"play\",\"watch\"]\n",
    "objects=[\"Baseball\",\"Cricket\"]\n",
    "for i in subjects:\n",
    "    a=i\n",
    "    for j in verbs:\n",
    "        b=j\n",
    "        for k in objects:\n",
    "            c=k\n",
    "            m=a+\"  \"+b+\"  \"+c\n",
    "            print(m)"
   ]
  },
  {
   "cell_type": "markdown",
   "id": "c2ad2c9b",
   "metadata": {},
   "source": [
    "---------------------------------------------------THE END----------------------------------------------------------"
   ]
  },
  {
   "cell_type": "markdown",
   "id": "a993f178",
   "metadata": {},
   "source": [
    "---------------------------------------------------------------------------------------------------------------------------"
   ]
  },
  {
   "cell_type": "markdown",
   "id": "dcd8e260",
   "metadata": {},
   "source": [
    "-------------------------------------------------------------------------------------------------------------------------"
   ]
  },
  {
   "cell_type": "markdown",
   "id": "979a0b3c",
   "metadata": {},
   "source": [
    "-------------------------------------------------------------------------------------------------------------------------"
   ]
  },
  {
   "cell_type": "markdown",
   "id": "b4c285d0",
   "metadata": {},
   "source": [
    "-------------------------------------------------------------------------------------------------------------------------"
   ]
  },
  {
   "cell_type": "markdown",
   "id": "7f473cae",
   "metadata": {},
   "source": [
    "-------------------------------------------------------------------------------------------------------------------------"
   ]
  },
  {
   "cell_type": "markdown",
   "id": "cfdc9e9c",
   "metadata": {},
   "source": [
    "-------------------------------------------------------------------------------------------------------------------------"
   ]
  },
  {
   "cell_type": "markdown",
   "id": "3daba170",
   "metadata": {},
   "source": [
    "-------------------------------------------------------------------------------------------------------------------------"
   ]
  },
  {
   "cell_type": "markdown",
   "id": "8b68ac10",
   "metadata": {},
   "source": [
    "-------------------------------------------------------------------------------------------------------------------------"
   ]
  },
  {
   "cell_type": "code",
   "execution_count": 34,
   "id": "97e7e7a6",
   "metadata": {},
   "outputs": [],
   "source": [
    "class Concate():\n",
    "    def __init__(self,subjects,verbs,objects):\n",
    "        self.subjects=subjects\n",
    "        self.verbs=verbs\n",
    "        self.objects=objects\n",
    "        \n",
    "        \n",
    "    def concatenation(self,subjects,verbs,objects):\n",
    "        for i in self.subjects:\n",
    "            a=i\n",
    "        for j in self.verbs:\n",
    "            b=j\n",
    "            for k in self.objects:\n",
    "                c=k\n",
    "                m=a+\"  \"+b+\"  \"+c\n",
    "                return m\n",
    "                \n",
    "\n"
   ]
  },
  {
   "cell_type": "code",
   "execution_count": 35,
   "id": "ba119f82",
   "metadata": {},
   "outputs": [
    {
     "name": "stdout",
     "output_type": "stream",
     "text": [
      "<bound method Concate.concatenation of <__main__.Concate object at 0x0000023A8CBF13D0>>\n"
     ]
    }
   ],
   "source": [
    "conc=Concate([\"Americans \",\"Indians\"],[\"play\",\"watch\"],[\"Baseball\",\"Cricket\"])\n",
    "print(conc.concatenation)"
   ]
  },
  {
   "cell_type": "code",
   "execution_count": null,
   "id": "7e0a3f29",
   "metadata": {},
   "outputs": [],
   "source": []
  },
  {
   "cell_type": "code",
   "execution_count": null,
   "id": "ecb26f7a",
   "metadata": {},
   "outputs": [],
   "source": []
  },
  {
   "cell_type": "code",
   "execution_count": null,
   "id": "d398e9af",
   "metadata": {},
   "outputs": [],
   "source": []
  },
  {
   "cell_type": "code",
   "execution_count": null,
   "id": "da1438aa",
   "metadata": {},
   "outputs": [],
   "source": []
  },
  {
   "cell_type": "code",
   "execution_count": null,
   "id": "fb44121f",
   "metadata": {},
   "outputs": [],
   "source": []
  }
 ],
 "metadata": {
  "kernelspec": {
   "display_name": "Python 3",
   "language": "python",
   "name": "python3"
  },
  "language_info": {
   "codemirror_mode": {
    "name": "ipython",
    "version": 3
   },
   "file_extension": ".py",
   "mimetype": "text/x-python",
   "name": "python",
   "nbconvert_exporter": "python",
   "pygments_lexer": "ipython3",
   "version": "3.8.8"
  }
 },
 "nbformat": 4,
 "nbformat_minor": 5
}
