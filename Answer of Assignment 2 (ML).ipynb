{
 "cells": [
  {
   "cell_type": "markdown",
   "id": "19b7f721",
   "metadata": {},
   "source": [
    "1.Create the below pattern using nested for loop in Python.\n",
    "    \n",
    " # * \n",
    " # * * \n",
    " # * * * \n",
    " # * * * * \n",
    " # * * * * * \n",
    " # * * * * \n",
    " # * * * \n",
    " # * * \n",
    " # * \n",
    " \n"
   ]
  },
  {
   "cell_type": "code",
   "execution_count": 5,
   "id": "ee6f6ced",
   "metadata": {},
   "outputs": [
    {
     "name": "stdout",
     "output_type": "stream",
     "text": [
      "how many rows?15\n",
      "\n",
      "*\n",
      "**\n",
      "***\n",
      "****\n",
      "*****\n",
      "******\n",
      "*******\n",
      "********\n",
      "*******\n",
      "******\n",
      "*****\n",
      "****\n",
      "***\n",
      "**\n",
      "*\n"
     ]
    }
   ],
   "source": [
    "a=input(\"how many rows?\")\n",
    "n=int(a)\n",
    "if n%2 != 0:\n",
    "    m=int((n+1)/2)\n",
    "    for i in range(m):\n",
    "        print(i *'*')\n",
    "    for i in range(m):    \n",
    "        print((m-i)*'*')\n",
    "else:\n",
    "    p=int(n/2)\n",
    "    for j in range(p+1):\n",
    "        print(j*'*')\n",
    "    for k in range(p+1):\n",
    "        print((p-k)*'*')"
   ]
  },
  {
   "cell_type": "markdown",
   "id": "004614b4",
   "metadata": {},
   "source": [
    "--------------------------------------------------------------------------------------"
   ]
  },
  {
   "cell_type": "markdown",
   "id": "5f439ef0",
   "metadata": {},
   "source": [
    " 2.\tWrite a Python program to reverse a word after accepting the input from the user.\n",
    " \n",
    " Sample Output: \n",
    " \n",
    " Input word: ineuron\n",
    " \n",
    " Output: norueni\n"
   ]
  },
  {
   "cell_type": "code",
   "execution_count": 31,
   "id": "d82b05b7",
   "metadata": {},
   "outputs": [],
   "source": [
    "def reverse_name(a):\n",
    "    reverse=' '\n",
    "    for i in range(len(a)-1,-1,-1):\n",
    "        reverse=reverse+a[i]\n",
    "    return reverse"
   ]
  },
  {
   "cell_type": "code",
   "execution_count": 33,
   "id": "212a69a6",
   "metadata": {
    "scrolled": true
   },
   "outputs": [
    {
     "name": "stdout",
     "output_type": "stream",
     "text": [
      "Please enter he name to be reversed : Python\n"
     ]
    },
    {
     "data": {
      "text/plain": [
       "' nohtyP'"
      ]
     },
     "execution_count": 33,
     "metadata": {},
     "output_type": "execute_result"
    }
   ],
   "source": [
    "name=input('Please enter he name to be reversed : ')\n",
    "reverse_name(name)"
   ]
  },
  {
   "cell_type": "markdown",
   "id": "efe577ae",
   "metadata": {},
   "source": [
    "______________________________________________________________________________________________"
   ]
  },
  {
   "cell_type": "markdown",
   "id": "16121ea0",
   "metadata": {},
   "source": [
    "1. Write a program which accepts a sequence of comma-separated numbers from console\n",
    "and generate a list. "
   ]
  },
  {
   "cell_type": "code",
   "execution_count": 28,
   "id": "e4935d1b",
   "metadata": {},
   "outputs": [],
   "source": [
    "def make_list(a):\n",
    "    list1=a.split(',')\n",
    "    list2=[float(list1[i]) for i in range(0,len(list1),1) ]\n",
    "    return list2    "
   ]
  },
  {
   "cell_type": "code",
   "execution_count": 29,
   "id": "eafa7f39",
   "metadata": {},
   "outputs": [
    {
     "name": "stdout",
     "output_type": "stream",
     "text": [
      "Enter all the numbers : 1.2,4.3,675,355465645,4\n"
     ]
    },
    {
     "data": {
      "text/plain": [
       "[1.2, 4.3, 675.0, 355465645.0, 4.0]"
      ]
     },
     "execution_count": 29,
     "metadata": {},
     "output_type": "execute_result"
    }
   ],
   "source": [
    "numbers=input('Enter all the numbers : ')\n",
    "make_list(numbers)"
   ]
  },
  {
   "cell_type": "markdown",
   "id": "b2c09f45",
   "metadata": {},
   "source": [
    "---------------------------------------------------------------------------------------------"
   ]
  },
  {
   "cell_type": "markdown",
   "id": "10dfc80a",
   "metadata": {},
   "source": [
    "#                              THE END"
   ]
  },
  {
   "cell_type": "markdown",
   "id": "e6def111",
   "metadata": {},
   "source": [
    "-------------------------------------------------------------------------------------------"
   ]
  }
 ],
 "metadata": {
  "kernelspec": {
   "display_name": "Python 3",
   "language": "python",
   "name": "python3"
  },
  "language_info": {
   "codemirror_mode": {
    "name": "ipython",
    "version": 3
   },
   "file_extension": ".py",
   "mimetype": "text/x-python",
   "name": "python",
   "nbconvert_exporter": "python",
   "pygments_lexer": "ipython3",
   "version": "3.8.8"
  }
 },
 "nbformat": 4,
 "nbformat_minor": 5
}
